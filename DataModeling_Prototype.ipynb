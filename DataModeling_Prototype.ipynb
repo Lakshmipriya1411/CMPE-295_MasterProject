{
  "cells": [
    {
      "cell_type": "code",
      "execution_count": null,
      "metadata": {
        "colab": {
          "base_uri": "https://localhost:8080/"
        },
        "id": "zEQ0zMnye-EV",
        "outputId": "2d7afc3f-a447-4e22-eb42-63a50a6bdd2c"
      },
      "outputs": [
        {
          "output_type": "stream",
          "name": "stdout",
          "text": [
            "Mounted at /content/drive\n"
          ]
        }
      ],
      "source": [
        "from google.colab import drive\n",
        "\n",
        "drive.mount('/content/drive')"
      ]
    },
    {
      "cell_type": "code",
      "execution_count": null,
      "metadata": {
        "id": "ClrUB7J5fMxt",
        "colab": {
          "base_uri": "https://localhost:8080/",
          "height": 537
        },
        "outputId": "8ace1747-f5be-4c56-df19-b59057462ae2"
      },
      "outputs": [
        {
          "output_type": "execute_result",
          "data": {
            "text/plain": [
              "                                                 title  \\\n",
              "0                                  No-Bake Nut Cookies   \n",
              "1                                Jewell Ball'S Chicken   \n",
              "2                                          Creamy Corn   \n",
              "3                                        Chicken Funny   \n",
              "4                                 Reeses Cups(Candy)     \n",
              "...                                                ...   \n",
              "2231137                            Sunny's Fake Crepes   \n",
              "2231138                                     Devil Eggs   \n",
              "2231139  Extremely Easy and Quick - Namul Daikon Salad   \n",
              "2231140     Pan-Roasted Pork Chops With Apple Fritters   \n",
              "2231141                 Polpette in Spicy Tomato Sauce   \n",
              "\n",
              "                                               ingredients  \\\n",
              "0        [\"1 c. firmly packed brown sugar\", \"1/2 c. eva...   \n",
              "1        [\"1 small jar chipped beef, cut up\", \"4 boned ...   \n",
              "2        [\"2 (16 oz.) pkg. frozen corn\", \"1 (8 oz.) pkg...   \n",
              "3        [\"1 large whole chicken\", \"2 (10 1/2 oz.) cans...   \n",
              "4        [\"1 c. peanut butter\", \"3/4 c. graham cracker ...   \n",
              "...                                                    ...   \n",
              "2231137  [\"1/2 cup chocolate hazelnut spread (recommend...   \n",
              "2231138  [\"1 dozen eggs\", \"1 paprika\", \"1 salt and pepp...   \n",
              "2231139  [\"150 grams Daikon radish\", \"1 tbsp Sesame oil...   \n",
              "2231140  [\"1 cup apple cider\", \"6 tablespoons sugar\", \"...   \n",
              "2231141  [\"1 pound ground veal\", \"1/2 pound sweet Itali...   \n",
              "\n",
              "                                                directions  \\\n",
              "0        [\"In a heavy 2-quart saucepan, mix brown sugar...   \n",
              "1        [\"Place chipped beef on bottom of baking dish....   \n",
              "2        [\"In a slow cooker, combine all ingredients. C...   \n",
              "3        [\"Boil and debone chicken.\", \"Put bite size pi...   \n",
              "4        [\"Combine first four ingredients and press in ...   \n",
              "...                                                    ...   \n",
              "2231137  [\"Spread hazelnut spread on 1 side of each tor...   \n",
              "2231138  [\"Boil eggs on medium for 30mins.\", \"Then cool...   \n",
              "2231139  [\"Julienne the daikon and squeeze out the exce...   \n",
              "2231140  [\"In a large bowl, mix the apple cider with 4 ...   \n",
              "2231141  [\"Preheat the oven to 350.\", \"In a bowl, mix t...   \n",
              "\n",
              "                                                       NER  \n",
              "0        ['brown sugar', ' milk', ' vanilla', ' nuts', ...  \n",
              "1        ['beef', ' chicken breasts', ' cream of mushro...  \n",
              "2        ['frozen corn', ' cream cheese', ' butter', ' ...  \n",
              "3        ['chicken', ' chicken gravy', ' cream of mushr...  \n",
              "4        ['peanut butter', ' graham cracker crumbs', ' ...  \n",
              "...                                                    ...  \n",
              "2231137  ['chocolate hazelnut spread', ' tortillas', ' ...  \n",
              "2231138  ['eggs', ' paprika', ' salt', ' choice', ' mir...  \n",
              "2231139  ['radish', ' Sesame oil', ' White sesame seeds...  \n",
              "2231140  ['apple cider', ' sugar', ' kosher salt', ' ba...  \n",
              "2231141  ['ground veal', ' sausage', ' bread crumbs', '...  \n",
              "\n",
              "[2231142 rows x 4 columns]"
            ],
            "text/html": [
              "\n",
              "  <div id=\"df-d2860cca-413f-42e8-afde-bcb33bfca6e3\">\n",
              "    <div class=\"colab-df-container\">\n",
              "      <div>\n",
              "<style scoped>\n",
              "    .dataframe tbody tr th:only-of-type {\n",
              "        vertical-align: middle;\n",
              "    }\n",
              "\n",
              "    .dataframe tbody tr th {\n",
              "        vertical-align: top;\n",
              "    }\n",
              "\n",
              "    .dataframe thead th {\n",
              "        text-align: right;\n",
              "    }\n",
              "</style>\n",
              "<table border=\"1\" class=\"dataframe\">\n",
              "  <thead>\n",
              "    <tr style=\"text-align: right;\">\n",
              "      <th></th>\n",
              "      <th>title</th>\n",
              "      <th>ingredients</th>\n",
              "      <th>directions</th>\n",
              "      <th>NER</th>\n",
              "    </tr>\n",
              "  </thead>\n",
              "  <tbody>\n",
              "    <tr>\n",
              "      <th>0</th>\n",
              "      <td>No-Bake Nut Cookies</td>\n",
              "      <td>[\"1 c. firmly packed brown sugar\", \"1/2 c. eva...</td>\n",
              "      <td>[\"In a heavy 2-quart saucepan, mix brown sugar...</td>\n",
              "      <td>['brown sugar', ' milk', ' vanilla', ' nuts', ...</td>\n",
              "    </tr>\n",
              "    <tr>\n",
              "      <th>1</th>\n",
              "      <td>Jewell Ball'S Chicken</td>\n",
              "      <td>[\"1 small jar chipped beef, cut up\", \"4 boned ...</td>\n",
              "      <td>[\"Place chipped beef on bottom of baking dish....</td>\n",
              "      <td>['beef', ' chicken breasts', ' cream of mushro...</td>\n",
              "    </tr>\n",
              "    <tr>\n",
              "      <th>2</th>\n",
              "      <td>Creamy Corn</td>\n",
              "      <td>[\"2 (16 oz.) pkg. frozen corn\", \"1 (8 oz.) pkg...</td>\n",
              "      <td>[\"In a slow cooker, combine all ingredients. C...</td>\n",
              "      <td>['frozen corn', ' cream cheese', ' butter', ' ...</td>\n",
              "    </tr>\n",
              "    <tr>\n",
              "      <th>3</th>\n",
              "      <td>Chicken Funny</td>\n",
              "      <td>[\"1 large whole chicken\", \"2 (10 1/2 oz.) cans...</td>\n",
              "      <td>[\"Boil and debone chicken.\", \"Put bite size pi...</td>\n",
              "      <td>['chicken', ' chicken gravy', ' cream of mushr...</td>\n",
              "    </tr>\n",
              "    <tr>\n",
              "      <th>4</th>\n",
              "      <td>Reeses Cups(Candy)</td>\n",
              "      <td>[\"1 c. peanut butter\", \"3/4 c. graham cracker ...</td>\n",
              "      <td>[\"Combine first four ingredients and press in ...</td>\n",
              "      <td>['peanut butter', ' graham cracker crumbs', ' ...</td>\n",
              "    </tr>\n",
              "    <tr>\n",
              "      <th>...</th>\n",
              "      <td>...</td>\n",
              "      <td>...</td>\n",
              "      <td>...</td>\n",
              "      <td>...</td>\n",
              "    </tr>\n",
              "    <tr>\n",
              "      <th>2231137</th>\n",
              "      <td>Sunny's Fake Crepes</td>\n",
              "      <td>[\"1/2 cup chocolate hazelnut spread (recommend...</td>\n",
              "      <td>[\"Spread hazelnut spread on 1 side of each tor...</td>\n",
              "      <td>['chocolate hazelnut spread', ' tortillas', ' ...</td>\n",
              "    </tr>\n",
              "    <tr>\n",
              "      <th>2231138</th>\n",
              "      <td>Devil Eggs</td>\n",
              "      <td>[\"1 dozen eggs\", \"1 paprika\", \"1 salt and pepp...</td>\n",
              "      <td>[\"Boil eggs on medium for 30mins.\", \"Then cool...</td>\n",
              "      <td>['eggs', ' paprika', ' salt', ' choice', ' mir...</td>\n",
              "    </tr>\n",
              "    <tr>\n",
              "      <th>2231139</th>\n",
              "      <td>Extremely Easy and Quick - Namul Daikon Salad</td>\n",
              "      <td>[\"150 grams Daikon radish\", \"1 tbsp Sesame oil...</td>\n",
              "      <td>[\"Julienne the daikon and squeeze out the exce...</td>\n",
              "      <td>['radish', ' Sesame oil', ' White sesame seeds...</td>\n",
              "    </tr>\n",
              "    <tr>\n",
              "      <th>2231140</th>\n",
              "      <td>Pan-Roasted Pork Chops With Apple Fritters</td>\n",
              "      <td>[\"1 cup apple cider\", \"6 tablespoons sugar\", \"...</td>\n",
              "      <td>[\"In a large bowl, mix the apple cider with 4 ...</td>\n",
              "      <td>['apple cider', ' sugar', ' kosher salt', ' ba...</td>\n",
              "    </tr>\n",
              "    <tr>\n",
              "      <th>2231141</th>\n",
              "      <td>Polpette in Spicy Tomato Sauce</td>\n",
              "      <td>[\"1 pound ground veal\", \"1/2 pound sweet Itali...</td>\n",
              "      <td>[\"Preheat the oven to 350.\", \"In a bowl, mix t...</td>\n",
              "      <td>['ground veal', ' sausage', ' bread crumbs', '...</td>\n",
              "    </tr>\n",
              "  </tbody>\n",
              "</table>\n",
              "<p>2231142 rows × 4 columns</p>\n",
              "</div>\n",
              "      <button class=\"colab-df-convert\" onclick=\"convertToInteractive('df-d2860cca-413f-42e8-afde-bcb33bfca6e3')\"\n",
              "              title=\"Convert this dataframe to an interactive table.\"\n",
              "              style=\"display:none;\">\n",
              "        \n",
              "  <svg xmlns=\"http://www.w3.org/2000/svg\" height=\"24px\"viewBox=\"0 0 24 24\"\n",
              "       width=\"24px\">\n",
              "    <path d=\"M0 0h24v24H0V0z\" fill=\"none\"/>\n",
              "    <path d=\"M18.56 5.44l.94 2.06.94-2.06 2.06-.94-2.06-.94-.94-2.06-.94 2.06-2.06.94zm-11 1L8.5 8.5l.94-2.06 2.06-.94-2.06-.94L8.5 2.5l-.94 2.06-2.06.94zm10 10l.94 2.06.94-2.06 2.06-.94-2.06-.94-.94-2.06-.94 2.06-2.06.94z\"/><path d=\"M17.41 7.96l-1.37-1.37c-.4-.4-.92-.59-1.43-.59-.52 0-1.04.2-1.43.59L10.3 9.45l-7.72 7.72c-.78.78-.78 2.05 0 2.83L4 21.41c.39.39.9.59 1.41.59.51 0 1.02-.2 1.41-.59l7.78-7.78 2.81-2.81c.8-.78.8-2.07 0-2.86zM5.41 20L4 18.59l7.72-7.72 1.47 1.35L5.41 20z\"/>\n",
              "  </svg>\n",
              "      </button>\n",
              "      \n",
              "  <style>\n",
              "    .colab-df-container {\n",
              "      display:flex;\n",
              "      flex-wrap:wrap;\n",
              "      gap: 12px;\n",
              "    }\n",
              "\n",
              "    .colab-df-convert {\n",
              "      background-color: #E8F0FE;\n",
              "      border: none;\n",
              "      border-radius: 50%;\n",
              "      cursor: pointer;\n",
              "      display: none;\n",
              "      fill: #1967D2;\n",
              "      height: 32px;\n",
              "      padding: 0 0 0 0;\n",
              "      width: 32px;\n",
              "    }\n",
              "\n",
              "    .colab-df-convert:hover {\n",
              "      background-color: #E2EBFA;\n",
              "      box-shadow: 0px 1px 2px rgba(60, 64, 67, 0.3), 0px 1px 3px 1px rgba(60, 64, 67, 0.15);\n",
              "      fill: #174EA6;\n",
              "    }\n",
              "\n",
              "    [theme=dark] .colab-df-convert {\n",
              "      background-color: #3B4455;\n",
              "      fill: #D2E3FC;\n",
              "    }\n",
              "\n",
              "    [theme=dark] .colab-df-convert:hover {\n",
              "      background-color: #434B5C;\n",
              "      box-shadow: 0px 1px 3px 1px rgba(0, 0, 0, 0.15);\n",
              "      filter: drop-shadow(0px 1px 2px rgba(0, 0, 0, 0.3));\n",
              "      fill: #FFFFFF;\n",
              "    }\n",
              "  </style>\n",
              "\n",
              "      <script>\n",
              "        const buttonEl =\n",
              "          document.querySelector('#df-d2860cca-413f-42e8-afde-bcb33bfca6e3 button.colab-df-convert');\n",
              "        buttonEl.style.display =\n",
              "          google.colab.kernel.accessAllowed ? 'block' : 'none';\n",
              "\n",
              "        async function convertToInteractive(key) {\n",
              "          const element = document.querySelector('#df-d2860cca-413f-42e8-afde-bcb33bfca6e3');\n",
              "          const dataTable =\n",
              "            await google.colab.kernel.invokeFunction('convertToInteractive',\n",
              "                                                     [key], {});\n",
              "          if (!dataTable) return;\n",
              "\n",
              "          const docLinkHtml = 'Like what you see? Visit the ' +\n",
              "            '<a target=\"_blank\" href=https://colab.research.google.com/notebooks/data_table.ipynb>data table notebook</a>'\n",
              "            + ' to learn more about interactive tables.';\n",
              "          element.innerHTML = '';\n",
              "          dataTable['output_type'] = 'display_data';\n",
              "          await google.colab.output.renderOutput(dataTable, element);\n",
              "          const docLink = document.createElement('div');\n",
              "          docLink.innerHTML = docLinkHtml;\n",
              "          element.appendChild(docLink);\n",
              "        }\n",
              "      </script>\n",
              "    </div>\n",
              "  </div>\n",
              "  "
            ]
          },
          "metadata": {},
          "execution_count": 2
        }
      ],
      "source": [
        "import pandas as pd\n",
        "path = \"/content/drive/Shareddrives/cmpe295/Data/preprocessed_data.csv\"\n",
        "df = pd.read_csv(path)\n",
        "df\n"
      ]
    },
    {
      "cell_type": "code",
      "source": [
        "df.iloc[1]"
      ],
      "metadata": {
        "colab": {
          "base_uri": "https://localhost:8080/"
        },
        "id": "uUdr8IRJIGGf",
        "outputId": "46e64d90-ebe5-4409-dc3e-fa077fe77825"
      },
      "execution_count": null,
      "outputs": [
        {
          "output_type": "execute_result",
          "data": {
            "text/plain": [
              "title                                      Jewell Ball'S Chicken\n",
              "ingredients    [\"1 small jar chipped beef, cut up\", \"4 boned ...\n",
              "directions     [\"Place chipped beef on bottom of baking dish....\n",
              "NER            ['beef', ' chicken breasts', ' cream of mushro...\n",
              "Name: 1, dtype: object"
            ]
          },
          "metadata": {},
          "execution_count": 18
        }
      ]
    },
    {
      "cell_type": "code",
      "source": [
        "df.NER[0]"
      ],
      "metadata": {
        "colab": {
          "base_uri": "https://localhost:8080/",
          "height": 35
        },
        "id": "s8cuQV0y8GXS",
        "outputId": "a48b0853-220f-4d42-9c0b-8d3dfad01082"
      },
      "execution_count": null,
      "outputs": [
        {
          "output_type": "execute_result",
          "data": {
            "text/plain": [
              "\"['brown sugar', ' milk', ' vanilla', ' nuts', ' butter', ' bite size shredded rice biscuits']\""
            ],
            "application/vnd.google.colaboratory.intrinsic+json": {
              "type": "string"
            }
          },
          "metadata": {},
          "execution_count": 3
        }
      ]
    },
    {
      "cell_type": "markdown",
      "source": [
        "Function Tfidf model vectorizes input and finds n similar items."
      ],
      "metadata": {
        "id": "zQm9mDAfJX-y"
      }
    },
    {
      "cell_type": "code",
      "source": [
        "from sklearn.feature_extraction.text import TfidfVectorizer\n",
        "from sklearn.metrics import pairwise_distances\n",
        "import numpy as np\n"
      ],
      "metadata": {
        "id": "mVohTTCJ5pV7"
      },
      "execution_count": null,
      "outputs": []
    },
    {
      "cell_type": "code",
      "source": [
        "tfidf_title_vectorizer = TfidfVectorizer()\n",
        "tfidf_title_features = tfidf_title_vectorizer.fit_transform(df['NER'])"
      ],
      "metadata": {
        "id": "8aHB-NaF5poe"
      },
      "execution_count": null,
      "outputs": []
    },
    {
      "cell_type": "code",
      "source": [
        "tfidf_title_features[0].todense().shape"
      ],
      "metadata": {
        "colab": {
          "base_uri": "https://localhost:8080/"
        },
        "id": "V14AH7M5APRB",
        "outputId": "375de033-8854-4359-f149-c99cc9f6ea85"
      },
      "execution_count": null,
      "outputs": [
        {
          "output_type": "execute_result",
          "data": {
            "text/plain": [
              "(1, 30043)"
            ]
          },
          "metadata": {},
          "execution_count": 6
        }
      ]
    },
    {
      "cell_type": "markdown",
      "source": [
        "We have implemented \"Text Semantics based recipe-ingredient similarity\""
      ],
      "metadata": {
        "id": "qtTts5WJLhd1"
      }
    },
    {
      "cell_type": "code",
      "source": [
        "def tfidf_model(input_ner, num_results):\n",
        "\n",
        "  input_vector = tfidf_title_vectorizer.transform(pd.Series(input_ner))\n",
        "  # print(pd.Series([input_ner]).shape)\n",
        "  pairwise_dist = pairwise_distances(tfidf_title_features, input_vector)\n",
        "  # print(pairwise_dist.shape)\n",
        "  indices = np.argsort(pairwise_dist.flatten())[0:num_results]\n",
        "  #pdists will store the 9 smallest distances\n",
        "  pdists  = np.sort(pairwise_dist.flatten())[0:num_results]\n",
        "  # print(indices)\n",
        "  #data frame indices of the 9 smallest distace's\n",
        "  df_indices = list(df.index[indices])\n",
        "  for i in df_indices:\n",
        "    print(df.iloc[i])\n",
        "    print(df.NER[i])\n",
        "    print(\"=\"*100)"
      ],
      "metadata": {
        "id": "ZrMEjt9f5pts"
      },
      "execution_count": null,
      "outputs": []
    },
    {
      "cell_type": "code",
      "source": [
        "tfidf_model(\"['brown sugar', ' milk', ' vanilla', ' nuts', ' butter', ' bite size shredded rice biscuits']\", 7)"
      ],
      "metadata": {
        "colab": {
          "base_uri": "https://localhost:8080/"
        },
        "id": "m5mGHMBa5pys",
        "outputId": "6d3e00ac-d7be-4359-c64f-f5d95f7a4c49"
      },
      "execution_count": null,
      "outputs": [
        {
          "output_type": "stream",
          "name": "stdout",
          "text": [
            "title                                        No-Bake Nut Cookies\n",
            "ingredients    [\"1 c. firmly packed brown sugar\", \"1/2 c. eva...\n",
            "directions     [\"In a heavy 2-quart saucepan, mix brown sugar...\n",
            "NER            ['brown sugar', ' milk', ' vanilla', ' nuts', ...\n",
            "Name: 0, dtype: object\n",
            "['brown sugar', ' milk', ' vanilla', ' nuts', ' butter', ' bite size shredded rice biscuits']\n",
            "====================================================================================================\n",
            "title                                          Cheese \"Croutons\"\n",
            "ingredients    [\"3 Tbsp. butter\", \"1/2 c. grated Parmesan che...\n",
            "directions     [\"Melt butter over low heat in medium skillet....\n",
            "NER            ['butter', ' Parmesan cheese', ' bite size shr...\n",
            "Name: 857573, dtype: object\n",
            "['butter', ' Parmesan cheese', ' bite size shredded wheat biscuits']\n",
            "====================================================================================================\n",
            "title                                        Snappy Party Snacks\n",
            "ingredients    [\"6 c. bite size shredded wheat, rice and corn...\n",
            "directions     [\"Preheat oven to 300\\u00b0.\", \"In large bowl ...\n",
            "NER             ['bite size shredded wheat', ' nuts', ' butter']\n",
            "Name: 852523, dtype: object\n",
            "['bite size shredded wheat', ' nuts', ' butter']\n",
            "====================================================================================================\n",
            "title                                                  Trail Mix\n",
            "ingredients    [\"2 cup bite-size shredded wheat cereal\", \"1/2...\n",
            "directions     [\"MIX cereal with nuts and dried fruit.\", \"PAC...\n",
            "NER                                       ['bite-size', ' nuts']\n",
            "Name: 2070827, dtype: object\n",
            "['bite-size', ' nuts']\n",
            "====================================================================================================\n",
            "title                                            Skillet Cookies\n",
            "ingredients    [\"5 1/2 c. bite size shredded rice cereal\", \"2...\n",
            "directions     [\"Coarsely crush 4 cups cereal.\", \"Beat eggs s...\n",
            "NER            ['bite size shredded rice cereal', ' eggs', ' ...\n",
            "Name: 599424, dtype: object\n",
            "['bite size shredded rice cereal', ' eggs', ' sugar', ' dates', ' nuts', ' vanilla', ' salt']\n",
            "====================================================================================================\n",
            "title                                  Caramel Cereal Mix Recipe\n",
            "ingredients    [\"3 c. Bite-size shredded wheat biscuits\", \"3 ...\n",
            "directions     [\"Combine shredded wheat biscuits, toasted oat...\n",
            "NER            ['Bite-size shredded wheat biscuits', ' cereal...\n",
            "Name: 1781290, dtype: object\n",
            "['Bite-size shredded wheat biscuits', ' cereal', ' peanuts', ' Sugar', ' Butter', ' corn syrup', ' Vanilla']\n",
            "====================================================================================================\n",
            "title                                      Cheesy Ranch Chex Mix\n",
            "ingredients    [\"9 9 cups Rice Chex (or combination) or 9 cup...\n",
            "directions     [\"In large microwavable bowl, mix cereal, pret...\n",
            "NER            ['Rice', ' bite-size', ' bite-size', ' butter'...\n",
            "Name: 1033053, dtype: object\n",
            "['Rice', ' bite-size', ' bite-size', ' butter', ' parmesan cheese']\n",
            "====================================================================================================\n"
          ]
        }
      ]
    },
    {
      "cell_type": "code",
      "source": [
        "tfidf_model(\"['apple cider', ' sugar', ' kosher salt']\", 5)"
      ],
      "metadata": {
        "colab": {
          "base_uri": "https://localhost:8080/"
        },
        "id": "wLeeY8vFHC0D",
        "outputId": "f7de6eca-f2c9-4602-82c4-32d2353e1157"
      },
      "execution_count": null,
      "outputs": [
        {
          "output_type": "stream",
          "name": "stdout",
          "text": [
            "title                                     All-Purpose Pie Dough \n",
            "ingredients    [\"1/4 cup sugar\", \"1 tablespoon apple cider vi...\n",
            "directions     [\"Stir sugar, vinegar, and 2 Tbsp. hot water i...\n",
            "NER            ['sugar', ' apple cider vinegar', ' flour', ' ...\n",
            "Name: 1281745, dtype: object\n",
            "====================================================================================================\n",
            "title                                         Nieve de Membrillo\n",
            "ingredients    [\"1 1/2 pounds ripe quinces (about 4)\", \"5 cup...\n",
            "directions     [\"Peel, quarter, and core the quinces.\", \"Put ...\n",
            "NER                           ['apple cider', ' sugar', ' salt']\n",
            "Name: 1769321, dtype: object\n",
            "====================================================================================================\n",
            "title                                      Pretty Pickled Onions\n",
            "ingredients    [\"1/2 cup apple cider vinegar (white vinegar w...\n",
            "directions     [\"Slice onions thinly in the shape of rings or...\n",
            "NER            ['apple cider vinegar', ' Sugar', ' Kosher Sal...\n",
            "Name: 1391739, dtype: object\n",
            "====================================================================================================\n",
            "title                                      Quick Pickled Onions \n",
            "ingredients    [\"1/2 cup apple cider vinegar\", \"1 tablespoon ...\n",
            "directions     [\"Whisk first 3 ingredients and 1 cup water in...\n",
            "NER            ['apple cider vinegar', ' sugar', ' kosher sal...\n",
            "Name: 1312544, dtype: object\n",
            "====================================================================================================\n",
            "title                                      All-Butter Pie Dough \n",
            "ingredients    [\"2 1/2 cups all-purpose flour\", \"1 teaspoon k...\n",
            "directions     [\"Pulse flour and salt in a food processor to ...\n",
            "NER            ['flour', ' kosher salt', ' butter', ' apple c...\n",
            "Name: 1351001, dtype: object\n",
            "====================================================================================================\n"
          ]
        }
      ]
    },
    {
      "cell_type": "code",
      "source": [
        "tfidf_model(\"['beef', ' chicken breasts', ' cream of mushroom soup', ' sour cream']\", 20) "
      ],
      "metadata": {
        "colab": {
          "base_uri": "https://localhost:8080/"
        },
        "id": "b0qKy6dIHs6O",
        "outputId": "644b7294-493c-47eb-cbaf-cb58da2bcff7"
      },
      "execution_count": null,
      "outputs": [
        {
          "output_type": "stream",
          "name": "stdout",
          "text": [
            "title                            Baked Chicken With Chipped Beef\n",
            "ingredients    [\"1 jar dried chipped beef\", \"4 to 6 boneless ...\n",
            "directions     [\"Layer chipped beef in bottom of baking dish ...\n",
            "NER            ['beef', ' chicken breasts', ' cream of mushro...\n",
            "Name: 453102, dtype: object\n",
            "['beef', ' chicken breasts', ' cream of mushroom soup', ' sour cream']\n",
            "====================================================================================================\n",
            "title                                  Chicken Supreme Casserole\n",
            "ingredients    [\"6 chicken breasts\", \"1 small jar chipped bee...\n",
            "directions     [\"Line bottom of baking dish with chipped beef...\n",
            "NER            ['chicken breasts', ' beef', ' sour cream', ' ...\n",
            "Name: 290709, dtype: object\n",
            "['chicken breasts', ' beef', ' sour cream', ' cream of mushroom soup']\n",
            "====================================================================================================\n",
            "title                                Chicken With Mushroom Sauce\n",
            "ingredients    [\"2 chicken breasts, split\", \"1 can cream of m...\n",
            "directions     [\"Take skin off chicken.\", \"Wrap bacon around ...\n",
            "NER            ['chicken breasts', ' cream of mushroom soup',...\n",
            "Name: 82307, dtype: object\n",
            "['chicken breasts', ' cream of mushroom soup', ' sour cream', ' beef']\n",
            "====================================================================================================\n",
            "title                                            Chicken Supreme\n",
            "ingredients    [\"1 can cream of mushroom soup\", \"1 (8 oz.) ca...\n",
            "directions     [\"Spray a baking dish with cooking spray and c...\n",
            "NER            ['cream of mushroom soup', ' sour cream', ' ch...\n",
            "Name: 582561, dtype: object\n",
            "['cream of mushroom soup', ' sour cream', ' chicken breasts', ' beef']\n",
            "====================================================================================================\n",
            "title                              Ann'S Chicken Breasts Supreme\n",
            "ingredients    [\"1 can cream of mushroom soup\", \"1 pt. sour c...\n",
            "directions     [\"Place chicken in casserole dish.\", \"Mix sour...\n",
            "NER            ['cream of mushroom soup', ' sour cream', ' be...\n",
            "Name: 539253, dtype: object\n",
            "['cream of mushroom soup', ' sour cream', ' beef', ' chicken breasts']\n",
            "====================================================================================================\n",
            "title                                            Chicken Supreme\n",
            "ingredients    [\"1 (4 oz.) pkg. chopped beef\", \"6 or 8 boned ...\n",
            "directions     [\"Wrap each chicken breast in a slice of bacon...\n",
            "NER            ['beef', ' chicken breasts', ' sour cream', ' ...\n",
            "Name: 535795, dtype: object\n",
            "['beef', ' chicken breasts', ' sour cream', ' cream of mushroom soup']\n",
            "====================================================================================================\n",
            "title                                                    Chicken\n",
            "ingredients    [\"5 split chicken breasts, boned and skinned\",...\n",
            "directions     [\"Line bottom of baking dish with beef.\", \"Pla...\n",
            "NER            ['chicken breasts', ' beef', ' sour cream', ' ...\n",
            "Name: 554366, dtype: object\n",
            "['chicken breasts', ' beef', ' sour cream', ' cream of mushroom soup']\n",
            "====================================================================================================\n",
            "title                                  Chicken With Chipped Beef\n",
            "ingredients    [\"3 to 4 boneless chicken breasts, cut into se...\n",
            "directions     [\"Mix soup and sour cream in bowl; set aside.\"...\n",
            "NER            ['chicken breasts', ' beef', ' cream of mushro...\n",
            "Name: 824817, dtype: object\n",
            "['chicken breasts', ' beef', ' cream of mushroom soup', ' sour cream']\n",
            "====================================================================================================\n",
            "title                                      Pam'S Chicken Breasts\n",
            "ingredients    [\"6 to 8 boneless chicken breasts\", \"1 jar dri...\n",
            "directions     [\"Spray bottom of a 13 x 9 x 2-inch pan.\", \"Pl...\n",
            "NER            ['chicken breasts', ' beef', ' sour cream', ' ...\n",
            "Name: 288231, dtype: object\n",
            "['chicken breasts', ' beef', ' sour cream', ' cream of mushroom soup']\n",
            "====================================================================================================\n",
            "title                                          Chicken Delicious\n",
            "ingredients    [\"6 chicken breasts, deboned\", \"6 oz. chipped ...\n",
            "directions     [\"Roll 1 ounce ham or beef in each chicken bre...\n",
            "NER            ['chicken breasts', ' beef', ' cream of mushro...\n",
            "Name: 338418, dtype: object\n",
            "['chicken breasts', ' beef', ' cream of mushroom soup', ' sour cream']\n",
            "====================================================================================================\n",
            "title                                           Chicken And Beef\n",
            "ingredients    [\"4 to 6 boneless chicken breasts\", \"2 cans cr...\n",
            "directions     [\"Clean and wash chicken.\", \"Rinse dried beef ...\n",
            "NER            ['chicken breasts', ' cream of mushroom soup',...\n",
            "Name: 683571, dtype: object\n",
            "['chicken breasts', ' cream of mushroom soup', ' sour cream', ' beef']\n",
            "====================================================================================================\n",
            "title                               Party Chicken A-La-Aunt Jean\n",
            "ingredients    [\"skinned chicken breasts\", \"1 small container...\n",
            "directions     [\"Use enough chipped beef to cover bottom of c...\n",
            "NER            ['chicken breasts', ' sour cream', ' cream of ...\n",
            "Name: 772190, dtype: object\n",
            "['chicken breasts', ' sour cream', ' cream of mushroom soup', ' beef']\n",
            "====================================================================================================\n",
            "title                             Sour Cream Chicken Bake Recipe\n",
            "ingredients    [\"8 to 10 boneless half chicken breasts\", \"8 t...\n",
            "directions     [\"Mix soup and lowfat sour cream.\", \"Use just ...\n",
            "NER            ['chicken breasts', ' beef', ' cream of mushro...\n",
            "Name: 1653741, dtype: object\n",
            "['chicken breasts', ' beef', ' cream of mushroom soup', ' sour cream']\n",
            "====================================================================================================\n",
            "title                          Chicken Breasts With Chipped Beef\n",
            "ingredients    [\"chicken breasts\", \"chipped beef\", \"1/2 pt. s...\n",
            "directions     [\"Layer a casserole dish with chipped beef.\", ...\n",
            "NER            ['chicken breasts', ' beef', ' sour cream', ' ...\n",
            "Name: 172218, dtype: object\n",
            "['chicken breasts', ' beef', ' sour cream', ' cream of mushroom soup']\n",
            "====================================================================================================\n",
            "title                               Chicken On Dried Beef Circle\n",
            "ingredients    [\"1 jar dried beef\", \"6 chicken breasts, boned...\n",
            "directions     [\"Place dried beef circle on bottom of baking ...\n",
            "NER            ['beef', ' chicken breasts', ' sour cream', ' ...\n",
            "Name: 688539, dtype: object\n",
            "['beef', ' chicken breasts', ' sour cream', ' cream of mushroom soup']\n",
            "====================================================================================================\n",
            "title                                      Jewell Ball'S Chicken\n",
            "ingredients    [\"1 small jar chipped beef, cut up\", \"4 boned ...\n",
            "directions     [\"Place chipped beef on bottom of baking dish....\n",
            "NER            ['beef', ' chicken breasts', ' cream of mushro...\n",
            "Name: 1, dtype: object\n",
            "['beef', ' chicken breasts', ' cream of mushroom soup', ' sour cream']\n",
            "====================================================================================================\n",
            "title                                            Chicken Breasts\n",
            "ingredients    [\"2 pkg. boneless, skinless chicken breasts\", ...\n",
            "directions     [\"Line casserole with dried beef.\", \"Arrange c...\n",
            "NER            ['chicken breasts', ' milk', ' sour cream', ' ...\n",
            "Name: 895215, dtype: object\n",
            "['chicken breasts', ' milk', ' sour cream', ' cream of mushroom soup', ' beef']\n",
            "====================================================================================================\n",
            "title                                          Chicken Delicious\n",
            "ingredients    [\"boneless chicken breasts\", \"1 can cream of m...\n",
            "directions     [\"Place all ingredients in slow cooker; cook 3...\n",
            "NER            ['chicken breasts', ' cream of mushroom soup',...\n",
            "Name: 194849, dtype: object\n",
            "['chicken breasts', ' cream of mushroom soup', ' sour cream', ' beef', ' garlic salt']\n",
            "====================================================================================================\n",
            "title                                        Chicken Continental\n",
            "ingredients    [\"8 pieces boneless chicken breasts\", \"1 (6 oz...\n",
            "directions     [\"Line casserole dish with dried beef.\", \"Plac...\n",
            "NER            ['chicken breasts', ' beef', ' cream of mushro...\n",
            "Name: 752170, dtype: object\n",
            "['chicken breasts', ' beef', ' cream of mushroom soup', ' cream of chicken soup', ' sour cream']\n",
            "====================================================================================================\n",
            "title                                          Chicken Casserole\n",
            "ingredients    [\"3 whole chicken breasts, cooked, deboned and...\n",
            "directions     [\"Combine chicken, sour cream and mushroom sou...\n",
            "NER            ['chicken breasts', ' sour cream', ' cream of ...\n",
            "Name: 1437, dtype: object\n",
            "['chicken breasts', ' sour cream', ' cream of mushroom soup']\n",
            "====================================================================================================\n"
          ]
        }
      ]
    },
    {
      "cell_type": "code",
      "source": [],
      "metadata": {
        "id": "gwvD4mEBH708"
      },
      "execution_count": null,
      "outputs": []
    }
  ],
  "metadata": {
    "colab": {
      "provenance": []
    },
    "kernelspec": {
      "display_name": "Python 3",
      "name": "python3"
    },
    "language_info": {
      "name": "python"
    }
  },
  "nbformat": 4,
  "nbformat_minor": 0
}